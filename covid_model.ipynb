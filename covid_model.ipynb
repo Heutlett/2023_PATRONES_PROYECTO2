{
 "cells": [
  {
   "attachments": {},
   "cell_type": "markdown",
   "metadata": {},
   "source": [
    "# Carga del set de datos"
   ]
  },
  {
   "cell_type": "code",
   "execution_count": 2,
   "metadata": {},
   "outputs": [],
   "source": [
    "import os\n",
    "import numpy as np\n",
    "import cv2\n",
    "from sklearn.model_selection import train_test_split\n",
    "\n",
    "# Ruta de la carpeta que contiene las imágenes de pulmones con COVID\n",
    "covid_folder = 'dataset\\images\\COVID_target'\n",
    "# Ruta de la carpeta que contiene las imágenes de pulmones sanos\n",
    "healthy_folder = 'dataset\\images\\Other'\n",
    "\n",
    "# Lista para almacenar las imágenes y las etiquetas correspondientes\n",
    "X = []\n",
    "y = []\n",
    "\n",
    "# Cargar imágenes de pulmones con COVID\n",
    "for filename in os.listdir(covid_folder):\n",
    "    if filename.endswith('.png'):\n",
    "        img = cv2.imread(os.path.join(covid_folder, filename), cv2.IMREAD_GRAYSCALE)\n",
    "        X.append(img)\n",
    "        y.append(1)  # Etiqueta 1 para COVID\n",
    "\n",
    "# Cargar imágenes de pulmones sanos\n",
    "for filename in os.listdir(healthy_folder):\n",
    "    if filename.endswith('.png'):\n",
    "        img = cv2.imread(os.path.join(healthy_folder, filename), cv2.IMREAD_GRAYSCALE)\n",
    "        X.append(img)\n",
    "        y.append(0)  # Etiqueta 0 para pulmones sanos\n",
    "\n",
    "# Convertir las listas en matrices numpy\n",
    "X = np.array(X)\n",
    "y = np.array(y)\n",
    "\n",
    "# Aplanar las imágenes en un vector unidimensional\n",
    "X = X.reshape(X.shape[0], -1)\n",
    "\n",
    "# Dividir el conjunto de datos en entrenamiento y prueba\n",
    "X_entrenamiento, X_prueba, y_entrenamiento, y_prueba = train_test_split(X, y, test_size=0.2, random_state=42)\n"
   ]
  },
  {
   "cell_type": "code",
   "execution_count": 3,
   "metadata": {},
   "outputs": [
    {
     "name": "stdout",
     "output_type": "stream",
     "text": [
      "Tamaño de X_entrenamiento: (16932, 89401)\n",
      "Tamaño de X_prueba: (4233, 89401)\n",
      "Tamaño de y_entrenamiento: (16932,)\n",
      "Tamaño de y_prueba: (4233,)\n"
     ]
    }
   ],
   "source": [
    "# Verificar el tamaño de las matrices\n",
    "print(\"Tamaño de X_entrenamiento:\", X_entrenamiento.shape)\n",
    "print(\"Tamaño de X_prueba:\", X_prueba.shape)\n",
    "print(\"Tamaño de y_entrenamiento:\", y_entrenamiento.shape)\n",
    "print(\"Tamaño de y_prueba:\", y_prueba.shape)"
   ]
  },
  {
   "attachments": {},
   "cell_type": "markdown",
   "metadata": {},
   "source": [
    "# Feature engineering"
   ]
  },
  {
   "cell_type": "code",
   "execution_count": 4,
   "metadata": {},
   "outputs": [],
   "source": [
    "from sklearn.preprocessing import StandardScaler\n",
    "\n",
    "# Preprocesamiento de las imágenes\n",
    "preprocessed_images = []\n",
    "for image in X:\n",
    "    # Redimensionar la imagen a un tamaño adecuado\n",
    "    resized_image = cv2.resize(image, (64, 64))  # Ajusta el tamaño según tus necesidades\n",
    "\n",
    "    # Normalizar la imagen\n",
    "    normalized_image = resized_image.astype(float) / 255.0  # Normalización en el rango [0, 1]\n",
    "\n",
    "    preprocessed_images.append(normalized_image)\n",
    "\n",
    "# Convertir las imágenes preprocesadas en una matriz numpy\n",
    "X_preprocessed = np.array(preprocessed_images)\n",
    "\n",
    "# Aplanar las imágenes preprocesadas en un vector unidimensional\n",
    "X_preprocessed = X_preprocessed.reshape(X_preprocessed.shape[0], -1)\n",
    "\n",
    "# Dividir el conjunto de datos en entrenamiento y prueba\n",
    "X_entrenamiento, X_prueba, y_entrenamiento, y_prueba = train_test_split(X_preprocessed, y, test_size=0.2, random_state=42)\n",
    "\n",
    "# Normalizar las características utilizando un escalador estándar\n",
    "scaler = StandardScaler()\n",
    "X_entrenamiento = scaler.fit_transform(X_entrenamiento)\n",
    "X_prueba = scaler.transform(X_prueba)"
   ]
  },
  {
   "cell_type": "code",
   "execution_count": 5,
   "metadata": {},
   "outputs": [
    {
     "name": "stdout",
     "output_type": "stream",
     "text": [
      "Tamaño de X_entrenamiento: (16932, 4096)\n",
      "Tamaño de X_prueba: (4233, 4096)\n",
      "Tamaño de y_entrenamiento: (16932,)\n",
      "Tamaño de y_prueba: (4233,)\n"
     ]
    }
   ],
   "source": [
    "# Verificar el tamaño de las matrices\n",
    "print(\"Tamaño de X_entrenamiento:\", X_entrenamiento.shape)\n",
    "print(\"Tamaño de X_prueba:\", X_prueba.shape)\n",
    "print(\"Tamaño de y_entrenamiento:\", y_entrenamiento.shape)\n",
    "print(\"Tamaño de y_prueba:\", y_prueba.shape)"
   ]
  },
  {
   "attachments": {},
   "cell_type": "markdown",
   "metadata": {},
   "source": [
    "# Sklearn"
   ]
  },
  {
   "cell_type": "code",
   "execution_count": 6,
   "metadata": {},
   "outputs": [],
   "source": [
    "from sklearn.neural_network import MLPClassifier\n",
    "from sklearn.datasets import load_iris\n",
    "from sklearn.model_selection import train_test_split, GridSearchCV\n",
    "from sklearn.metrics import accuracy_score\n",
    "import time"
   ]
  },
  {
   "cell_type": "code",
   "execution_count": 7,
   "metadata": {},
   "outputs": [
    {
     "name": "stdout",
     "output_type": "stream",
     "text": [
      "Predicciones:  [1 0 0 ... 0 0 0]\n",
      "Valor real  :  [0 0 1 ... 0 0 1]\n",
      "Precisión: 0.85\n"
     ]
    }
   ],
   "source": [
    "mlp = MLPClassifier(activation='logistic', alpha=0.01, hidden_layer_sizes=(10,10), max_iter=1000, random_state=42, solver='sgd')\n",
    "\n",
    "start_time = time.time()\n",
    "mlp.fit(X_entrenamiento, y_entrenamiento)\n",
    "end_time = time.time()\n",
    "\n",
    "y_pred = mlp.predict(X_prueba)\n",
    "\n",
    "print(\"Predicciones: \", y_pred)\n",
    "print(\"Valor real  : \",y_prueba)\n",
    "\n",
    "accuracy = accuracy_score(y_prueba, y_pred)\n",
    "print(\"Precisión: {:.2f}\".format(accuracy))"
   ]
  },
  {
   "attachments": {},
   "cell_type": "markdown",
   "metadata": {},
   "source": [
    "# Prueba con feature extractor del enunciado"
   ]
  },
  {
   "cell_type": "code",
   "execution_count": null,
   "metadata": {},
   "outputs": [],
   "source": [
    "import os\n",
    "import numpy as np\n",
    "import cv2\n",
    "from sklearn.model_selection import train_test_split\n",
    "\n",
    "# Ruta de la carpeta que contiene las imágenes de pulmones con COVID\n",
    "covid_folder = 'dataset\\images\\COVID_target'\n",
    "# Ruta de la carpeta que contiene las imágenes de pulmones sanos\n",
    "healthy_folder = 'dataset\\images\\Other'\n",
    "\n",
    "# Lista para almacenar las imágenes y las etiquetas correspondientes\n",
    "X = []\n",
    "y = []\n",
    "\n",
    "# Cargar imágenes de pulmones con COVID\n",
    "for filename in os.listdir(covid_folder):\n",
    "    if filename.endswith('.png'):\n",
    "        img = cv2.imread(os.path.join(covid_folder, filename), cv2.IMREAD_GRAYSCALE)\n",
    "        X.append(img)\n",
    "        y.append(1)  # Etiqueta 1 para COVID\n",
    "\n",
    "# Cargar imágenes de pulmones sanos\n",
    "for filename in os.listdir(healthy_folder):\n",
    "    if filename.endswith('.png'):\n",
    "        img = cv2.imread(os.path.join(healthy_folder, filename), cv2.IMREAD_GRAYSCALE)\n",
    "        X.append(img)\n",
    "        y.append(0)  # Etiqueta 0 para pulmones sanos\n",
    "\n",
    "# Convertir las listas en matrices numpy\n",
    "X = np.array(X)\n",
    "y = np.array(y)\n",
    "\n",
    "# Aplanar las imágenes en un vector unidimensional\n",
    "X = X.reshape(X.shape[0], -1)\n",
    "\n",
    "# Dividir el conjunto de datos en entrenamiento y prueba\n",
    "X_entrenamiento, X_prueba, y_entrenamiento, y_prueba = train_test_split(X, y, test_size=0.2, random_state=42)\n"
   ]
  }
 ],
 "metadata": {
  "kernelspec": {
   "display_name": "Python 3",
   "language": "python",
   "name": "python3"
  },
  "language_info": {
   "codemirror_mode": {
    "name": "ipython",
    "version": 3
   },
   "file_extension": ".py",
   "mimetype": "text/x-python",
   "name": "python",
   "nbconvert_exporter": "python",
   "pygments_lexer": "ipython3",
   "version": "3.11.3"
  },
  "orig_nbformat": 4
 },
 "nbformat": 4,
 "nbformat_minor": 2
}
